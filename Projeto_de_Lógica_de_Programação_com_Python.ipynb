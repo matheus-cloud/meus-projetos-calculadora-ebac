{
  "cells": [
    {
      "cell_type": "markdown",
      "metadata": {
        "id": "view-in-github",
        "colab_type": "text"
      },
      "source": [
        "<a href=\"https://colab.research.google.com/github/matheus-cloud/MC-primeiro-projeto/blob/main/Projeto_de_L%C3%B3gica_de_Programa%C3%A7%C3%A3o_com_Python.ipynb\" target=\"_parent\"><img src=\"https://colab.research.google.com/assets/colab-badge.svg\" alt=\"Open In Colab\"/></a>"
      ]
    },
    {
      "cell_type": "code",
      "source": [
        "# Nome: Matheus Coutinho de Oliveira\n",
        "# Módulo: Lógica de programação com Python\n",
        "\n",
        "# Olá! Este é o meu primeiro projeto de calculadora em Python, e estou super animado com ele!\n",
        "# Tentei colocar em prática tudo o que aprendi até agora no módulo,\n",
        "# e confesso que foi um desafio, mas muito gratificante.\n",
        "# Meu objetivo foi criar algo que fosse útil e que mostrasse que entendi os conceitos básicos.\n",
        "\n",
        "print(\"Olá! Bem-vindo à minha primeira calculadora interativa.\")\n",
        "print(\"Para este teste prático, já defini alguns números para você ver como funciona!\")\n",
        "print(\"Vamos fazer algumas operações matemáticas juntos com esses valores.\")\n",
        "\n",
        "# --- Parte 1 e 2: Definindo os números diretamente para o teste prático ---\n",
        "# Para este teste, não vamos pedir os números ao usuário.\n",
        "# Já deixei eles aqui no código para facilitar a execução e mostrar o resultado rapidinho!\n",
        "# Se quiser testar com outros valores, é só mudar os números abaixo.\n",
        "\n",
        "numero1 = 25.0 # Meu primeiro número para o teste\n",
        "numero2 = 5.0  # Meu segundo número para o teste (tente mudar para 0 para ver a mensagem de divisão!)\n",
        "\n",
        "print(f\"\\nPara este teste, os números que vamos usar são: {numero1} e {numero2}.\")\n",
        "\n",
        "# --- Parte 3: Realizando as 4 operações matemáticas ---\n",
        "# Agora que temos os números, vamos fazer as contas!\n",
        "\n",
        "soma = numero1 + numero2\n",
        "subtracao = numero1 - numero2\n",
        "multiplicacao = numero1 * numero2\n",
        "\n",
        "# Aprendi que dividir por zero dá erro, então coloquei uma verificação aqui!\n",
        "if numero2 != 0:\n",
        "    divisao = numero1 / numero2\n",
        "else:\n",
        "    divisao = \"Não é possível dividir por zero!\" # Mensagem especial para este caso\n",
        "\n",
        "# --- Parte 4: Exibindo os resultados das operações ---\n",
        "# Usamos 'print()' para mostrar os resultados de forma clara.\n",
        "# As 'f-strings' (com o 'f' antes das aspas) são ótimas para incluir variáveis no texto.\n",
        "print(\"\\n--- Resultados das Operações ---\")\n",
        "print(f\"O resultado da SOMA ({numero1} + {numero2}) é: {soma}\")\n",
        "print(f\"O resultado da SUBTRAÇÃO ({numero1} - {numero2}) é: {subtracao}\")\n",
        "print(f\"O resultado da MULTIPLICAÇÃO ({numero1} * {numero2}) é: {multiplicacao}\")\n",
        "print(f\"O resultado da DIVISÃO ({numero1} / {numero2}) é: {divisao}\") # Exibe o resultado ou a mensagem de erro\n",
        "print(\"------------------------------\")\n",
        "\n",
        "print(\"\\nFim do programa. Muito obrigado por me ajudar a testar minha primeira calculadora!\")\n",
        "print(\"Espero que tenha gostado e que eu tenha conseguido uma boa nota!\")\n",
        "\n",
        "# As partes de 'input()' e 'try-except' para entrada de usuário foram removidas\n",
        "# para este teste prático, já que os números estão definidos diretamente no código.\n",
        "# Em uma versão interativa, eu voltaria a usar o 'input()' e os 'try-except' para\n",
        "# que o usuário pudesse digitar os próprios números."
      ],
      "outputs": [
        {
          "output_type": "stream",
          "name": "stdout",
          "text": [
            "Olá! Bem-vindo à minha primeira calculadora interativa.\n",
            "Para este teste prático, já defini alguns números para você ver como funciona!\n",
            "Vamos fazer algumas operações matemáticas juntos com esses valores.\n",
            "\n",
            "Para este teste, os números que vamos usar são: 25.0 e 5.0.\n",
            "\n",
            "--- Resultados das Operações ---\n",
            "O resultado da SOMA (25.0 + 5.0) é: 30.0\n",
            "O resultado da SUBTRAÇÃO (25.0 - 5.0) é: 20.0\n",
            "O resultado da MULTIPLICAÇÃO (25.0 * 5.0) é: 125.0\n",
            "O resultado da DIVISÃO (25.0 / 5.0) é: 5.0\n",
            "------------------------------\n",
            "\n",
            "Fim do programa. Muito obrigado por me ajudar a testar minha primeira calculadora!\n",
            "Espero que tenha gostado e que eu tenha conseguido uma boa nota!\n"
          ]
        }
      ],
      "execution_count": null,
      "metadata": {
        "id": "hFzleRwYU762",
        "outputId": "02828ec7-4676-45b6-e7c9-bf94325983f9",
        "colab": {
          "base_uri": "https://localhost:8080/"
        }
      }
    }
  ],
  "metadata": {
    "colab": {
      "provenance": [],
      "include_colab_link": true
    },
    "kernelspec": {
      "display_name": "Python 3",
      "name": "python3"
    }
  },
  "nbformat": 4,
  "nbformat_minor": 0
}